{
  "nbformat": 4,
  "nbformat_minor": 0,
  "metadata": {
    "colab": {
      "name": "19MAT105-Week-6.ipynb",
      "provenance": [],
      "collapsed_sections": [],
      "authorship_tag": "ABX9TyNi5ruuCqSjvUGM4poyvw/Z",
      "include_colab_link": true
    },
    "kernelspec": {
      "name": "python3",
      "display_name": "Python 3"
    },
    "language_info": {
      "name": "python"
    }
  },
  "cells": [
    {
      "cell_type": "markdown",
      "metadata": {
        "id": "view-in-github",
        "colab_type": "text"
      },
      "source": [
        "<a href=\"https://colab.research.google.com/github/NamithaK03/Linear-Algebra/blob/main/19MAT105_Week_6.ipynb\" target=\"_parent\"><img src=\"https://colab.research.google.com/assets/colab-badge.svg\" alt=\"Open In Colab\"/></a>"
      ]
    },
    {
      "cell_type": "markdown",
      "source": [
        "## Coin Flip Simulation:\n",
        "\n",
        "Monte Carlo Simulation, also known as the Monte Carlo Method or a multiple probability simulation, is a mathematical technique, which is used to estimate the possible outcomes of an uncertain event.\n",
        "\n",
        "Monte Carlo methods or Monte Carlo Experiments are a broad class of computational algorithms which are used to model the probability of different outcomes in a process that cannot be easily modelled due to introduction of random variable.\n",
        "\n",
        "What if Somebody asks you to prove experimentally that the probability of getting a head in a coin toss experiment is 1/2!! \n",
        "\n",
        "Such questions can be easily proved using this simulation by simulating the coin flipping repeatedly thousands of times."
      ],
      "metadata": {
        "id": "U0wsrJd6wVFV"
      }
    },
    {
      "cell_type": "code",
      "metadata": {
        "id": "VrB1-X_zclHT",
        "colab": {
          "base_uri": "https://localhost:8080/",
          "height": 296
        },
        "outputId": "3b7905f9-2e44-4064-afe6-ccde89f8a039"
      },
      "source": [
        "# 1. Coin Flip Example\n",
        "#Import required libraries :\n",
        "\n",
        "import random\n",
        "import numpy as np\n",
        "import matplotlib.pyplot as plt\n",
        "\n",
        "#Coin flip function :\n",
        "\n",
        "#0 --> Heads\n",
        "#1 --> Tails\n",
        "\n",
        "def coin_flip():\n",
        "    return random.randint(0,1) \n",
        "\n",
        "#Monte Carlo Simulation :\n",
        "\n",
        "#Empty list to store the probability values.\n",
        "list1 = []\n",
        "\n",
        "def monte_carlo(n):\n",
        "    results = 0\n",
        "    for i in range(n):\n",
        "        flip_result = coin_flip()\n",
        "        results = results + flip_result\n",
        "        \n",
        "        #Calculating probability value :\n",
        "        prob_value = results/(i+1)\n",
        "        \n",
        "        #Append the probability values to the list :\n",
        "        list1.append(prob_value)\n",
        "\n",
        "        #Plot the results :\n",
        "        plt.axhline(y=0.5, color='r', linestyle='-')\n",
        "        plt.xlabel(\"Iterations\")\n",
        "        plt.ylabel(\"Probability\")\n",
        "        plt.plot(list1)\n",
        "       \n",
        "    return results/n\n",
        "  \n",
        "#Calling the function :\n",
        "\n",
        "answer = monte_carlo(5000)\n",
        "print(\"Final value :\",answer)"
      ],
      "execution_count": 1,
      "outputs": [
        {
          "output_type": "stream",
          "name": "stdout",
          "text": [
            "Final value : 0.4924\n"
          ]
        },
        {
          "output_type": "display_data",
          "data": {
            "image/png": "[encoded data removed]",
            "text/plain": [
              "<Figure size 432x288 with 1 Axes>"
            ]
          },
          "metadata": {
            "needs_background": "light"
          }
        }
      ]
    },
    {
      "cell_type": "markdown",
      "source": [
        "----\n",
        "**Lab Assignment - 6**\n",
        "----\n",
        "(Write steps in detail)\n",
        "\n",
        "1. A fair coin is tossed 4 times. Define the sample space corresponding to this random experiment. Also give the subsets corresponding to the following events and find the respective probabilities:\n",
        "\n",
        "  a.   More heads than tails are obtained\n",
        "\n",
        "  b.   Tails occur on the ven numbered tosses\n",
        "\n",
        "2. Two defective tubes get mixed up with 2 good ones. The tubes are tested, one by one, until both defectives are found. What is the probability that the last defective tube is obtained on (i) the second test, (ii) the third test and (iii) the fourth test? \n",
        "\n",
        "3. The probability that a contractor will get a plumping contract is 2/3 and the probability that he will get an electric contract is 4/9. If the probability of getting at least one contract is 4/5, what is the probability that he will get both?\n",
        "\n",
        "4. From a bag containing 3 red and 2 black balls, 2 balls are drawn at random. Find the probability that they are of the same colour.\n",
        "\n",
        "5. A card is drawn from a well-shuffled pack of playing cards. What is the probability that it is either a spade or an ace?\n",
        "\n",
        "6. 15% of a firm's employees are BE degree holders, 25% are MBA degree holders and 5% have both degrees. Find the probability of selecting a BE degree holder, if the selection is confined to MBAs.\n",
        "\n",
        "7. If the probability that A solves a problem is 1/2 and that for B is 3/4 and if they aim at solving a problem independently, what is the probability that the problem is solved?\n",
        "\n",
        "8. If P(A) = 0.35, P(B) = 0.75 and P(AUB) = 0.95, find P(A' U B')\n",
        "\n",
        "9. An urn contains 2 white and 4 black balls. Two balls are drwan one by one without replacement. Write the sample space corresponding to this experiment and the subsets corresponding to the following events:\n",
        "\n",
        "  a. the first ball drawn is white\n",
        "\n",
        "  b. Both the balls drawn are black\n",
        "\n",
        "  Also find the probabilities of the above events.\n",
        "\n",
        "\n",
        "10. From 6 positive and 8 negative numbers, 4 numbers are chosen at random (without replacement) and multiplied. What is the probability that the product is positive?\n",
        "\n",
        "----"
      ],
      "metadata": {
        "id": "K0wmuzulnKZY"
      }
    }
  ]
}