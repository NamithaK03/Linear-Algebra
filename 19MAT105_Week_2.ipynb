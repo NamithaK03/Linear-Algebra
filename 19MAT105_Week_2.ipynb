{
  "nbformat": 4,
  "nbformat_minor": 0,
  "metadata": {
    "colab": {
      "name": "19MAT105-Week-2.ipynb",
      "provenance": [],
      "authorship_tag": "ABX9TyPBlWfXthtn2s7TV9CuKcgB",
      "include_colab_link": true
    },
    "kernelspec": {
      "name": "python3",
      "display_name": "Python 3"
    },
    "language_info": {
      "name": "python"
    }
  },
  "cells": [
    {
      "cell_type": "markdown",
      "metadata": {
        "id": "view-in-github",
        "colab_type": "text"
      },
      "source": [
        "<a href=\"https://colab.research.google.com/github/NamithaK03/Linear-Algebra/blob/main/19MAT105_Week_2.ipynb\" target=\"_parent\"><img src=\"https://colab.research.google.com/assets/colab-badge.svg\" alt=\"Open In Colab\"/></a>"
      ]
    },
    {
      "cell_type": "markdown",
      "metadata": {
        "id": "kWXNG-cmHrih"
      },
      "source": [
        "## Scalars, Vectors, Matrices\n",
        "\n",
        "__Scalars:__ are just a single number. For example temperature, which is denoted by just one number.\n",
        "\n",
        "__Vectors:__ are an array of numbers. The numbers are arranged in order and we can identify each individual number by its index in that ordering. We can think of vectors as identifying points in space, with each element giving the coordinate along a different axis. In simple terms, a vector is an arrow representing a quantity that has both magnitude and direction wherein the length of the arrow represents the magnitude and the orientation tells you the direction. For example wind, which has a direction and magnitude.\n",
        "\n",
        "__Matrices:__ A matrix is a 2D-array of numbers, so each element is identified by two indices instead of just one. If a real valued matrix $A$ has a height of *m* and a width of *n*, then we say that $A \\in \\mathbb{R}^{m \\times n}$. We identify the elements of the matrix as $A_{m,n}$ where *m* represents the row and *n* represents the column.\n",
        "![Scalars, Vectors, Matrices and Tensors](https://raw.githubusercontent.com/adhiraiyan/DeepLearningWithTF2.0/master/notebooks/figures/fig0201a.png)\n",
        "\n",
        "__Tensors:__ In the general case, are an array of numbers arranged on a regular grid with a variable number of axes is knows as a tensor. \n"
      ]
    },
    {
      "cell_type": "markdown",
      "metadata": {
        "id": "jpq8_8gLB8lw"
      },
      "source": [
        "## Overview\n",
        "\n",
        "NumPy is at the core of many types of scientific computing and is the main tool that we will use to perform Linear Algebra operations with Python. Python’s numpy library builds and stores vectors and matrices. To build mathematical vectors in Python we need to use numpy arrays with np.array()"
      ]
    },
    {
      "cell_type": "code",
      "metadata": {
        "id": "ZLMcTt3ZIIaQ"
      },
      "source": [
        "import numpy as np\n",
        "%matplotlib inline\n",
        "import math\n",
        "import matplotlib.pyplot as plt \n",
        "\n",
        "from urllib.request import urlretrieve\n",
        "URL = 'https://go.gwu.edu/engcomp4plot'\n",
        "urlretrieve(URL, 'plot_helper.py')\n",
        "import sys\n",
        "sys.path.append('../scripts/')\n",
        "\n",
        "# Our helper, with the functions: \n",
        "# plot_vector, plot_linear_transformation, plot_linear_transformations\n",
        "from plot_helper import *"
      ],
      "execution_count": 2,
      "outputs": []
    },
    {
      "cell_type": "code",
      "metadata": {
        "colab": {
          "base_uri": "https://localhost:8080/",
          "height": 281
        },
        "id": "oaIxvzizSX_Z",
        "outputId": "1bf52278-d164-433a-ec25-81187a717c44"
      },
      "source": [
        "# Vector Examples \n",
        "yellow = np.array([.5, .5])\n",
        "red = np.array([.2, .1])\n",
        "blue = np.array([.1, .3])\n",
        "\n",
        "plt.arrow(0, 0, yellow[0], yellow[1], head_width=.02, head_length=0.01, color = 'y')\n",
        "plt.arrow(0, 0, red[0], red[1], head_width=.02, head_length=0.01, color = 'r')\n",
        "plt.arrow(0, 0, blue[0], blue[1],  head_width=.02, head_length=0.01, color = 'b')\n",
        "plt.title('Vector Examples')\n",
        "plt.show()"
      ],
      "execution_count": null,
      "outputs": [
        {
          "output_type": "display_data",
          "data": {
            "image/png": "[encoded data removed]",
            "text/plain": [
              "<Figure size 432x288 with 1 Axes>"
            ]
          },
          "metadata": {
            "needs_background": "light"
          }
        }
      ]
    },
    {
      "cell_type": "code",
      "metadata": {
        "colab": {
          "base_uri": "https://localhost:8080/"
        },
        "id": "AIN2Ion5_tY0",
        "outputId": "d3d4a0f5-63c5-4a1d-fdc8-f5539cc1bbc5"
      },
      "source": [
        "v = np.array([1,2,3])\n",
        "print(\"v=\",v)\n",
        "print(\"Length of v is\", len(v))\n",
        "z = np.array((1,2,3))\n",
        "print(\"z=\",z)"
      ],
      "execution_count": null,
      "outputs": [
        {
          "output_type": "stream",
          "name": "stdout",
          "text": [
            "v= [1 2 3]\n",
            "Length of v is 3\n",
            "z= [1 2 3]\n"
          ]
        }
      ]
    },
    {
      "cell_type": "code",
      "metadata": {
        "colab": {
          "base_uri": "https://localhost:8080/"
        },
        "id": "Yw9Gxi8pETAn",
        "outputId": "d0b038e5-6fb8-43b5-c3bb-c4d26349a745"
      },
      "source": [
        "w = np.array([[1],  # this is a column vector as it has 3 rows and 1 column\n",
        "             [2],\n",
        "             [3]])\n",
        "print(\"w=\",w)\n",
        "print(\"vector size=\",w.shape)"
      ],
      "execution_count": null,
      "outputs": [
        {
          "output_type": "stream",
          "name": "stdout",
          "text": [
            "w= [[1]\n",
            " [2]\n",
            " [3]]\n",
            "vector size= (3, 1)\n"
          ]
        }
      ]
    },
    {
      "cell_type": "code",
      "metadata": {
        "colab": {
          "base_uri": "https://localhost:8080/"
        },
        "id": "yFQRdqTALDZb",
        "outputId": "0b5408bc-9bfe-478d-a4e4-39ff2eda3e7b"
      },
      "source": [
        "# Column vector can be transposed back to original row vector: \n",
        "w.T "
      ],
      "execution_count": null,
      "outputs": [
        {
          "output_type": "execute_result",
          "data": {
            "text/plain": [
              "array([[1, 2, 3]])"
            ]
          },
          "metadata": {},
          "execution_count": 69
        }
      ]
    },
    {
      "cell_type": "code",
      "metadata": {
        "colab": {
          "base_uri": "https://localhost:8080/"
        },
        "id": "3HdPaMK_Wwwg",
        "outputId": "0f46d310-ae3f-45cc-cf0b-662c306f13fc"
      },
      "source": [
        "# obtaining a particular entry\n",
        "c = np.array([1,2,3])\n",
        "print (c[0])"
      ],
      "execution_count": 15,
      "outputs": [
        {
          "output_type": "stream",
          "name": "stdout",
          "text": [
            "1\n"
          ]
        }
      ]
    },
    {
      "cell_type": "markdown",
      "metadata": {
        "id": "Voj26mSpZLuh"
      },
      "source": [
        "### Zero Vector, Constant Vector\n",
        "\n"
      ]
    },
    {
      "cell_type": "code",
      "metadata": {
        "colab": {
          "base_uri": "https://localhost:8080/"
        },
        "id": "cZtRGBJXMzbu",
        "outputId": "65d8d0a0-b293-4ed9-a892-547efa3db38b"
      },
      "source": [
        "a = np.zeros([1,2])   # Create an array of all zeros\n",
        "print(\"a=\",a)              \n",
        "\n",
        "b = np.ones([1,2])    # Create an array of all ones\n",
        "print(\"b=\",b)              # Prints \"[[ 1.  1.]]\"\n",
        "\n",
        "c = np.full([1,3], 7)  # Create a constant array\n",
        "print(\"c=\",c)               \n",
        "\n",
        "d = np.random.random((2,2))  # Create an array filled with random values\n",
        "print(\"d=\",d) "
      ],
      "execution_count": null,
      "outputs": [
        {
          "output_type": "stream",
          "name": "stdout",
          "text": [
            "a= [[0. 0.]]\n",
            "b= [[1. 1.]]\n",
            "c= [[7 7 7]]\n",
            "d= [[0.82947948 0.28487744]\n",
            " [0.59691675 0.23016397]]\n"
          ]
        }
      ]
    },
    {
      "cell_type": "markdown",
      "metadata": {
        "id": "wkdpT0JKQ2Uj"
      },
      "source": [
        "### Addition and Subtraction of Vectors"
      ]
    },
    {
      "cell_type": "code",
      "metadata": {
        "colab": {
          "base_uri": "https://localhost:8080/"
        },
        "id": "sjVdzbicQkZB",
        "outputId": "54a7257b-fd97-408e-fd87-3db200d76f68"
      },
      "source": [
        "A = np.array([1,2,3])\n",
        "B = np.array([1,2,1])\n",
        "print('A =', A)\n",
        "print('B =', B)\n",
        "print('A + B =', A+B)\n",
        "\n",
        "# Doing some arithmetic operation to vectors \"element-wise\"\n",
        "\n",
        "print('A - B =', A-B)"
      ],
      "execution_count": null,
      "outputs": [
        {
          "output_type": "stream",
          "name": "stdout",
          "text": [
            "A = [1 2 3]\n",
            "B = [1 2 1]\n",
            "A + B = [2 4 4]\n",
            "A - B = [0 0 2]\n"
          ]
        }
      ]
    },
    {
      "cell_type": "markdown",
      "metadata": {
        "id": "LG2EJxMQIydG"
      },
      "source": [
        "## Visualization of Vector Addition and Scalar Multiplication"
      ]
    },
    {
      "cell_type": "code",
      "metadata": {
        "colab": {
          "base_uri": "https://localhost:8080/",
          "height": 406
        },
        "id": "HLV7DOVIENyQ",
        "outputId": "f61a804e-54bb-44f6-a7b6-3a29a409e01c"
      },
      "source": [
        "# vector addition\n",
        "a = numpy.array([2,1])\n",
        "b = numpy.array([1,3])\n",
        "origin = numpy.array((0,0))\n",
        "\n",
        "vectors = [a, b, a+b]\n",
        "tails   = [origin, origin, origin]\n",
        "plot_vector(vectors, tails)\n",
        "pyplot.title(\"Adding vectors with coordinates $[2, 1]$ and $[1,3]$.\\n\");"
      ],
      "execution_count": 9,
      "outputs": [
        {
          "output_type": "display_data",
          "data": {
            "image/png": "[encoded data removed]",
            "text/plain": [
              "<Figure size 400x400 with 1 Axes>"
            ]
          },
          "metadata": {
            "needs_background": "light"
          }
        }
      ]
    },
    {
      "cell_type": "code",
      "metadata": {
        "colab": {
          "base_uri": "https://localhost:8080/",
          "height": 388
        },
        "id": "5DsBfcseE0qe",
        "outputId": "1e1db700-6fbf-423b-ddea-d4fa7f14e8b8"
      },
      "source": [
        "# vector scaling\n",
        "c = numpy.array([2,1])\n",
        "vectors = [c, 2*c]\n",
        "plot_vector(vectors)\n",
        "pyplot.title(\"Scaling of the vector $[2,1]$ by the scalar $2$.\");"
      ],
      "execution_count": 10,
      "outputs": [
        {
          "output_type": "display_data",
          "data": {
            "image/png": "[encoded data removed]",
            "text/plain": [
              "<Figure size 400x400 with 1 Axes>"
            ]
          },
          "metadata": {
            "needs_background": "light"
          }
        }
      ]
    },
    {
      "cell_type": "markdown",
      "metadata": {
        "id": "3f10CWNqRaG4"
      },
      "source": [
        "### Dot Product\n",
        "Lets calculate a dot product. What do we need to do? We need to multiply two vectors \"element-wise\" and them sum up all of those product"
      ]
    },
    {
      "cell_type": "code",
      "metadata": {
        "colab": {
          "base_uri": "https://localhost:8080/"
        },
        "id": "Znh9JpnjRZlg",
        "outputId": "43a419af-f618-499c-8a60-4b21cc891553"
      },
      "source": [
        "# Find the dot product of vectos a and b\n",
        "\n",
        "# Dot Product\n",
        "(A * B).sum()"
      ],
      "execution_count": null,
      "outputs": [
        {
          "output_type": "execute_result",
          "data": {
            "text/plain": [
              "8"
            ]
          },
          "metadata": {},
          "execution_count": 57
        }
      ]
    },
    {
      "cell_type": "code",
      "metadata": {
        "colab": {
          "base_uri": "https://localhost:8080/"
        },
        "id": "328YIFemRk47",
        "outputId": "9b973e27-b864-45c5-8273-abddc79f21aa"
      },
      "source": [
        "s1 = np.dot(A, B)\n",
        "print(\"s1=\",s1)\n",
        "s2 = A.dot(B)\n",
        "print(\"s2=\",s2)"
      ],
      "execution_count": null,
      "outputs": [
        {
          "output_type": "stream",
          "name": "stdout",
          "text": [
            "s1= 8\n",
            "s2= 8\n"
          ]
        }
      ]
    },
    {
      "cell_type": "code",
      "metadata": {
        "colab": {
          "base_uri": "https://localhost:8080/"
        },
        "id": "cfr6UlfpvhNB",
        "outputId": "6d558996-48e7-486e-c1eb-6f1de3b08c58"
      },
      "source": [
        "a = np.array([1,2,3])  # or a = [1,2,3]\n",
        "b = np.array([2,3,4])  # or b = [2,3,4]\n",
        "z = np.dot(a,b)\n",
        "print(z) "
      ],
      "execution_count": null,
      "outputs": [
        {
          "output_type": "stream",
          "name": "stdout",
          "text": [
            "20\n"
          ]
        }
      ]
    },
    {
      "cell_type": "markdown",
      "metadata": {
        "id": "flEXuX-O9h0P"
      },
      "source": [
        "## Vector Norm"
      ]
    },
    {
      "cell_type": "code",
      "metadata": {
        "hide-output": false,
        "id": "a9b0265d",
        "colab": {
          "base_uri": "https://localhost:8080/"
        },
        "outputId": "26978751-f01d-41d6-ffad-289a546f91ba"
      },
      "source": [
        "x = np.array([1,2,3])\n",
        "np.sqrt(np.sum(x**2))  # Norm of x"
      ],
      "execution_count": 14,
      "outputs": [
        {
          "output_type": "execute_result",
          "data": {
            "text/plain": [
              "3.7416573867739413"
            ]
          },
          "metadata": {},
          "execution_count": 14
        }
      ]
    },
    {
      "cell_type": "code",
      "metadata": {
        "hide-output": false,
        "id": "38eed2e5",
        "colab": {
          "base_uri": "https://localhost:8080/"
        },
        "outputId": "ea45760f-0936-44ce-899d-c8ea02ba12ef"
      },
      "source": [
        "x = np.array([1,2,3])\n",
        "np.linalg.norm(x)      # Compute vector length (use np.linalg.norm)"
      ],
      "execution_count": null,
      "outputs": [
        {
          "output_type": "execute_result",
          "data": {
            "text/plain": [
              "3.7416573867739413"
            ]
          },
          "metadata": {},
          "execution_count": 86
        }
      ]
    },
    {
      "cell_type": "markdown",
      "metadata": {
        "id": "W9BAxH1JUb43"
      },
      "source": [
        "## Linear combination of vectors\n",
        "Adding two vectors that were each multiplied by a scalar is called a linear combination of those two vectors.  In the code cells below, we will use the NumPy function randint to get random integers in an interval (in this case, from $-10$ to $10$). We then create a list of 30 random vectors on the plane via linear combinations of the vectors $\\mathbf{a}$ and $\\mathbf{b}$, and we draw them all."
      ]
    },
    {
      "cell_type": "code",
      "metadata": {
        "colab": {
          "base_uri": "https://localhost:8080/",
          "height": 388
        },
        "id": "HDmKCGSQVO9v",
        "outputId": "455ee971-4d19-425b-f385-376f4a1adeb9"
      },
      "source": [
        "from numpy.random import randint\n",
        "a = numpy.array((-2,1))\n",
        "b = numpy.array((1,-3))\n",
        "vectors = []\n",
        "for _ in range(30):\n",
        "    m = randint(-10,10)\n",
        "    n = randint(-10,10)\n",
        "    vectors.append(m*a + n*b)\n",
        "    \n",
        "plot_vector(vectors)\n",
        "pyplot.title(\"Thirty random vectors, created as linear combinations of $\\mathbf{a}$ and $\\mathbf{b}$.\");"
      ],
      "execution_count": 11,
      "outputs": [
        {
          "output_type": "display_data",
          "data": {
            "image/png": "[encoded data removed]",
            "text/plain": [
              "<Figure size 400x400 with 1 Axes>"
            ]
          },
          "metadata": {
            "needs_background": "light"
          }
        }
      ]
    },
    {
      "cell_type": "markdown",
      "metadata": {
        "id": "W9kGj_Hf_2LU"
      },
      "source": [
        "## Matrices\n",
        " In numpy, a matrix is a list of lists. For example, the matrix is defined using np.matrix() where each row is an individual list, and the matrix is a collection of these lists."
      ]
    },
    {
      "cell_type": "code",
      "metadata": {
        "id": "crmKj6PG_sDZ"
      },
      "source": [
        "import numpy as np\n",
        "A = np.matrix([[1,2,3],[4,5,6],[7,8,9]])\n",
        "print(A)"
      ],
      "execution_count": null,
      "outputs": []
    },
    {
      "cell_type": "code",
      "metadata": {
        "id": "Eax2z644AGeq"
      },
      "source": [
        "print(\"The shape of the A matrix is \\n\",A.shape)"
      ],
      "execution_count": null,
      "outputs": []
    },
    {
      "cell_type": "code",
      "metadata": {
        "id": "6QlZTp0qAHgy"
      },
      "source": [
        "print(\"Number of rows in A is \\n\",A.shape[0])"
      ],
      "execution_count": null,
      "outputs": []
    },
    {
      "cell_type": "code",
      "metadata": {
        "id": "ml-2iH-AANFI"
      },
      "source": [
        "print(\"Number of columns in A is \\n\",A.shape[1])"
      ],
      "execution_count": null,
      "outputs": []
    },
    {
      "cell_type": "markdown",
      "metadata": {
        "id": "RW1KZKFT8Ip2"
      },
      "source": [
        "## Solving Matrix equations\n",
        "\n",
        "We can use Numpy to (efficiently) solve large systems of equations of the form:\n",
        "\n",
        "$$Ax=b$$\n",
        "\n",
        "Let us illustrate that with:\n",
        "\n",
        "$$\n",
        "A = \\begin{pmatrix}\n",
        "5 & 6 & 2\\\\\n",
        "4 & 7 & 19\\\\\n",
        "0 & 3 & 12\n",
        "\\end{pmatrix}\n",
        "$$\n",
        "\n",
        "$$\n",
        "b = \\begin{pmatrix}\n",
        "-1\\\\\n",
        "2\\\\\n",
        "1 \n",
        "\\end{pmatrix}\n",
        "$$"
      ]
    },
    {
      "cell_type": "code",
      "metadata": {
        "collapsed": true,
        "id": "-el9QdaZ8Ip4"
      },
      "source": [
        "A = np.matrix([[5, 6, 2],\n",
        "               [4, 7, 19],\n",
        "               [0, 3, 12]])\n",
        "b = np.matrix([[-1], [2], [1]])"
      ],
      "execution_count": null,
      "outputs": []
    },
    {
      "cell_type": "markdown",
      "metadata": {
        "id": "cHF2UpYP8Ip6"
      },
      "source": [
        "We use the `linalg.solve` command:"
      ]
    },
    {
      "cell_type": "code",
      "metadata": {
        "id": "z10t7DyN8Ip8",
        "outputId": "5f3c4439-6a0c-4dd0-c467-7f448adaa179"
      },
      "source": [
        "x = np.linalg.solve(A, b)\n",
        "x"
      ],
      "execution_count": null,
      "outputs": [
        {
          "data": {
            "text/plain": [
              "matrix([[ 0.45736434],\n",
              "        [-0.62790698],\n",
              "        [ 0.24031008]])"
            ]
          },
          "execution_count": 33,
          "metadata": {},
          "output_type": "execute_result"
        }
      ]
    },
    {
      "cell_type": "markdown",
      "metadata": {
        "id": "bqKqjJjG8Ip9"
      },
      "source": [
        "We can verify our result:"
      ]
    },
    {
      "cell_type": "code",
      "metadata": {
        "id": "bTH857qZ8Ip-",
        "outputId": "782003f0-266f-48d3-9669-e10ee7edd631"
      },
      "source": [
        "A * x"
      ],
      "execution_count": null,
      "outputs": [
        {
          "data": {
            "text/plain": [
              "matrix([[-1.],\n",
              "        [ 2.],\n",
              "        [ 1.]])"
            ]
          },
          "execution_count": 34,
          "metadata": {},
          "output_type": "execute_result"
        }
      ]
    },
    {
      "cell_type": "markdown",
      "metadata": {
        "id": "ZRnLZthl1oAR"
      },
      "source": [
        "----\n",
        "**Lab Assignment - 2**\n",
        "----\n",
        "## Part A\n",
        "1. Create vectors with dimensions 2, 3 and 4.  Name it as u, v and w, respectively.\n",
        "\n",
        "2. Create two 4-dimensional vectors u, v.  Find 2u+ 3v.\n",
        "\n",
        "3. Create the following vector c. Compute the scalar multiplication 2c. Print the second component of the new vector.\n",
        "$$\n",
        "c = \\begin{pmatrix}\n",
        "1\\\\\n",
        "2\\\\\n",
        "3 \n",
        "\\end{pmatrix}\n",
        "$$\n",
        "\n",
        "4. Normalize the above vector c. Print the normalized vector. \n",
        "\n",
        "5. Create the following matrix. Print A, size of the matrix A\n",
        "$$\n",
        "A = \\begin{pmatrix}\n",
        "5 & 6 & 2\\\\\n",
        "4 & 7 & 19\\\\\n",
        "0 & 3 & 12\n",
        "\\end{pmatrix}\n",
        "$$\n",
        "\n",
        "6. Compute the matrix-vector product Av using following vector and matrix A in Q:3.\n",
        "\n",
        "$$\n",
        "v = \\begin{pmatrix}\n",
        "-1\\\\\n",
        "2\\\\\n",
        "1 \n",
        "\\end{pmatrix}\n",
        "$$\n",
        "\n",
        "7. Solve for $x$ in $x=2u-(v+3w)$, where\n",
        "$$\n",
        "u = \\begin{pmatrix}\n",
        "2\\\\\n",
        "-1\\\\\n",
        "5\\\\\n",
        "0 \n",
        "\\end{pmatrix}\n",
        ",\n",
        "v = \\begin{pmatrix}\n",
        "4\\\\\n",
        "-3\\\\\n",
        "1\\\\\n",
        "-1 \n",
        "\\end{pmatrix}\n",
        ",\n",
        "w = \\begin{pmatrix}\n",
        "-6\\\\\n",
        "2\\\\\n",
        "0\\\\\n",
        "3 \n",
        "\\end{pmatrix}\n",
        "$$\n",
        "\n",
        "8. Write $s$ as a linear combination of $u$ and $w$, if possible.\n",
        "$s=[0,3]^T, u=[1.2]^T, w=[1,-1]^T$\n",
        "\n",
        "9. Show that the vectors u,v are orthogonal\n",
        "$$\n",
        "u = \\begin{pmatrix}\n",
        "3\\\\\n",
        "2\\\\\n",
        "-1\\\\\n",
        "4\n",
        "\\end{pmatrix}\n",
        ",\n",
        "v = \\begin{pmatrix}\n",
        "1\\\\\n",
        "-1\\\\\n",
        "1\\\\\n",
        "0\n",
        "\\end{pmatrix}$$\n",
        "\n",
        "10. Compute $A ^ 2 - 2 A + 3$ with:\n",
        "$A = \n",
        "\\begin{pmatrix}\n",
        "1 & -1\\\\\n",
        "2 & 1\n",
        "\\end{pmatrix}\n",
        "$\n",
        "\n",
        "## Part B\n",
        "1. Let $$\n",
        "a1 = \\begin{pmatrix}\n",
        "1\\\\\n",
        "0\\\\\n",
        "3\n",
        "\\end{pmatrix}\n",
        ",\n",
        "a2 = \\begin{pmatrix}\n",
        "4\\\\\n",
        "2\\\\\n",
        "14\n",
        "\\end{pmatrix}\n",
        ",\n",
        "a3 = \\begin{pmatrix}\n",
        "3\\\\\n",
        "6\\\\\n",
        "10\n",
        "\\end{pmatrix}$$\n",
        "and\n",
        "$$b = \\begin{pmatrix}\n",
        "-1\\\\\n",
        "8\\\\\n",
        "-5\n",
        "\\end{pmatrix}\n",
        "$$\n",
        "Determine whether $b$ is a linear combination of $a1,a2,a3$.\n",
        "\n",
        "2. Decide whether each subset of $R^3$ is linearly dependent or linearly independent.\n",
        "![Capture.PNG](data:image/png;base64,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)\n",
        "\n",
        "2. Let $H$ be the set of all vectors of the form $(a-3b,b-a,a,b)$\n",
        "where $a$ and $b$ are arbitrary scalars. Show that $H$ is a subspace of $R^4$."
      ]
    }
  ]
}